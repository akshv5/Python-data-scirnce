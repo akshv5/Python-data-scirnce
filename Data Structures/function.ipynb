{
 "cells": [
  {
   "cell_type": "markdown",
   "metadata": {},
   "source": [
    "- Types of Function\n",
    "\n",
    "    - User Defined Functions\n",
    "      - Parameterized Function\n",
    "      - Non-Parameterized Function\n",
    "      - Return Functions\n",
    "      - Non - Returned Functions\n",
    "      - Default Parameterized Function\n",
    "      - Lambda Function\n",
    "      \n",
    "    - Built-in Functions\n",
    "      - Append\n",
    "      - Pop etc..... We have already discussed in data structure"
   ]
  },
  {
   "cell_type": "code",
   "execution_count": null,
   "metadata": {},
   "outputs": [],
   "source": [
    "def add(a,b):\n",
    "  return print(a+b)"
   ]
  },
  {
   "cell_type": "code",
   "execution_count": null,
   "metadata": {},
   "outputs": [],
   "source": [
    "add(1,2)"
   ]
  },
  {
   "cell_type": "code",
   "execution_count": null,
   "metadata": {},
   "outputs": [],
   "source": [
    "c = add(1,2)\n",
    "print(c)"
   ]
  },
  {
   "cell_type": "code",
   "execution_count": null,
   "metadata": {},
   "outputs": [],
   "source": [
    "def add(a,b):\n",
    "  return a+b\n",
    "\n",
    "c = add(5,3)\n",
    "print(c)"
   ]
  },
  {
   "cell_type": "code",
   "execution_count": null,
   "metadata": {},
   "outputs": [],
   "source": [
    "avg = c // 2\n",
    "print(avg)"
   ]
  },
  {
   "cell_type": "code",
   "execution_count": null,
   "metadata": {},
   "outputs": [],
   "source": [
    "def my_fun(country = 'India'):\n",
    "  print('I am from '+country)\n",
    "  \n",
    "my_fun('USA')\n",
    "my_fun('UK')\n",
    "my_fun('Brazil')\n",
    "my_fun('Italy')\n",
    "my_fun()"
   ]
  },
  {
   "cell_type": "code",
   "execution_count": 52,
   "metadata": {},
   "outputs": [
    {
     "name": "stdout",
     "output_type": "stream",
     "text": [
      "apple banana cherry "
     ]
    }
   ],
   "source": [
    "def food_option(food):\n",
    "  for x in food:\n",
    "    print(x, end=' ')\n",
    "    \n",
    "fruits = ['apple', 'banana', 'cherry']\n",
    "food_option(fruits)"
   ]
  },
  {
   "cell_type": "code",
   "execution_count": 53,
   "metadata": {},
   "outputs": [
    {
     "name": "stdout",
     "output_type": "stream",
     "text": [
      "3\n",
      "-1\n",
      "2\n",
      "0.5\n"
     ]
    }
   ],
   "source": [
    "add = lambda a,b: a+b\n",
    "sub = lambda a,b: a-b\n",
    "mul = lambda a,b: a*b\n",
    "div = lambda a,b: a/b\n",
    "\n",
    "print(add(1,2))\n",
    "print(sub(1,2))\n",
    "print(mul(1,2))\n",
    "print(div(1,2))"
   ]
  },
  {
   "cell_type": "code",
   "execution_count": 54,
   "metadata": {},
   "outputs": [
    {
     "name": "stdout",
     "output_type": "stream",
     "text": [
      "True\n"
     ]
    }
   ],
   "source": [
    "even = lambda x: x%2 == 0\n",
    "print(even(2))"
   ]
  }
 ],
 "metadata": {
  "kernelspec": {
   "display_name": "base",
   "language": "python",
   "name": "python3"
  },
  "language_info": {
   "codemirror_mode": {
    "name": "ipython",
    "version": 3
   },
   "file_extension": ".py",
   "mimetype": "text/x-python",
   "name": "python",
   "nbconvert_exporter": "python",
   "pygments_lexer": "ipython3",
   "version": "3.12.7"
  }
 },
 "nbformat": 4,
 "nbformat_minor": 2
}
