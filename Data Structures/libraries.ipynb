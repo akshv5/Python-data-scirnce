{
 "cells": [
  {
   "cell_type": "code",
   "execution_count": 53,
   "metadata": {},
   "outputs": [
    {
     "name": "stdout",
     "output_type": "stream",
     "text": [
      "5.0\n",
      "3.141592653589793\n",
      "10\n",
      "120\n",
      "8.0\n",
      "2.302585092994046\n",
      "0.8414709848078965\n"
     ]
    }
   ],
   "source": [
    "import math\n",
    "print (math. sqrt (25))\n",
    "print (math.pi)\n",
    "print (math.gcd (10, 20))\n",
    "print(math. factorial (5))\n",
    "print (math.pow(2, 3))\n",
    "print (math. log (10))\n",
    "print (math. sin(1))"
   ]
  },
  {
   "cell_type": "code",
   "execution_count": 54,
   "metadata": {},
   "outputs": [],
   "source": [
    "from random import random, randint, choice, shuffle"
   ]
  },
  {
   "cell_type": "code",
   "execution_count": 55,
   "metadata": {},
   "outputs": [
    {
     "name": "stdout",
     "output_type": "stream",
     "text": [
      "get a random number between 0 and 1: 0.6289055214246781\n",
      "get a random number between 1 and 100; 19\n",
      "get a random element from a list: 3\n",
      "shuffle a list: ['Spike\", Tyke', 'Tom', 'Jerry']\n"
     ]
    }
   ],
   "source": [
    "print('get a random number between 0 and 1:', random())\n",
    "print('get a random number between 1 and 100;', randint(1, 109))\n",
    "print('get a random element from a list:', choice([1, 2, 3, 4, 5]))\n",
    "names =['Tom', 'Jerry', 'Spike\", Tyke']\n",
    "shuffle(names)\n",
    "print('shuffle a list:', names)"
   ]
  },
  {
   "cell_type": "code",
   "execution_count": 56,
   "metadata": {},
   "outputs": [],
   "source": [
    "from datetime import datetime as dt"
   ]
  },
  {
   "cell_type": "code",
   "execution_count": 57,
   "metadata": {},
   "outputs": [
    {
     "name": "stdout",
     "output_type": "stream",
     "text": [
      "current date and time: 2025-03-01 13:41:57.159639\n"
     ]
    }
   ],
   "source": [
    "print('current date and time:', dt.now())\n"
   ]
  },
  {
   "cell_type": "code",
   "execution_count": 58,
   "metadata": {},
   "outputs": [
    {
     "name": "stdout",
     "output_type": "stream",
     "text": [
      "current year: 2025\n",
      "current month: 3\n",
      "current day: 1\n",
      "current hour: 13\n",
      "current minute: 41\n",
      "current second: 57\n",
      "current microsecond: 173719\n"
     ]
    }
   ],
   "source": [
    "print('current year:', dt.now().year)\n",
    "print('current month:', dt.now().month)\n",
    "print('current day:', dt.now().day)\n",
    "print('current hour:', dt.now().hour)\n",
    "print('current minute:', dt.now().minute)\n",
    "print('current second:', dt.now().second)\n",
    "print('current microsecond:', dt.now().microsecond)"
   ]
  },
  {
   "cell_type": "code",
   "execution_count": 59,
   "metadata": {},
   "outputs": [
    {
     "name": "stdout",
     "output_type": "stream",
     "text": [
      "current day name: Saturday\n",
      "current month name: March\n",
      "current day name: Sat\n",
      "current month name: Mar\n"
     ]
    }
   ],
   "source": [
    "print('current day name:', dt.now().strftime('%A'))\n",
    "print('current month name:', dt.now().strftime('%B'))\n",
    "print('current day name:', dt.now().strftime('%a'))\n",
    "print('current month name:', dt.now().strftime('%b'))"
   ]
  },
  {
   "cell_type": "code",
   "execution_count": 60,
   "metadata": {},
   "outputs": [
    {
     "name": "stdout",
     "output_type": "stream",
     "text": [
      "Formatted date: 01/03/25\n"
     ]
    }
   ],
   "source": [
    "date = dt.now().strftime('%d/%m/%y')\n",
    "print('Formatted date:', date)"
   ]
  },
  {
   "cell_type": "code",
   "execution_count": 61,
   "metadata": {},
   "outputs": [
    {
     "name": "stdout",
     "output_type": "stream",
     "text": [
      "current date: 01\n",
      "current month: 03\n"
     ]
    }
   ],
   "source": [
    "print('current date:', dt.now().strftime('%d'))\n",
    "print('current month:', dt.now().strftime('%m'))"
   ]
  },
  {
   "cell_type": "code",
   "execution_count": 62,
   "metadata": {},
   "outputs": [
    {
     "name": "stdout",
     "output_type": "stream",
     "text": [
      "Current date: 01-03-25\n",
      "Current time: 13:41:57\n"
     ]
    }
   ],
   "source": [
    "print('Current date:', dt.now().strftime('%d-%m-%y'))\n",
    "print('Current time:', dt.now().strftime('%H:%M:%S'))\n"
   ]
  },
  {
   "cell_type": "markdown",
   "metadata": {},
   "source": [
    "- Finding details or information using OS library\n"
   ]
  },
  {
   "cell_type": "code",
   "execution_count": 63,
   "metadata": {},
   "outputs": [],
   "source": [
    "import os"
   ]
  },
  {
   "cell_type": "markdown",
   "metadata": {},
   "source": [
    "- getcwd() method is used in program to find out the current working directory in OS\n"
   ]
  },
  {
   "cell_type": "code",
   "execution_count": 64,
   "metadata": {},
   "outputs": [
    {
     "name": "stdout",
     "output_type": "stream",
     "text": [
      "Current working directory: c:\\Users\\aakas\\OneDrive\\Desktop\\DIGIPODIUM\\Data Structures\n"
     ]
    }
   ],
   "source": [
    "print('Current working directory:', os.getcwd())"
   ]
  },
  {
   "cell_type": "code",
   "execution_count": 65,
   "metadata": {},
   "outputs": [
    {
     "name": "stdout",
     "output_type": "stream",
     "text": [
      "Files in current directory: ['Dictionary.ipynb', 'function.ipynb', 'libraries.ipynb', 'list.ipynb', 'strings.ipynb']\n",
      "5 files found in current directory\n"
     ]
    }
   ],
   "source": [
    "files = os.listdir('.')\n",
    "print('Files in current directory:', files) \n",
    "print(len(files), 'files found in current directory')"
   ]
  },
  {
   "cell_type": "code",
   "execution_count": 66,
   "metadata": {},
   "outputs": [
    {
     "name": "stdout",
     "output_type": "stream",
     "text": [
      "Files in the specified directory: ['form.html', 'index.html']\n",
      "2 files found in the specified directory\n"
     ]
    }
   ],
   "source": [
    "files = os.listdir(r\"E:\\Aakash's Program\\Web Development\")\n",
    "print('Files in the specified directory:', files)\n",
    "print(len(files), 'files found in the specified directory')"
   ]
  },
  {
   "cell_type": "code",
   "execution_count": 67,
   "metadata": {},
   "outputs": [
    {
     "data": {
      "text/plain": [
       "<generator object walk at 0x000001DC39B37850>"
      ]
     },
     "execution_count": 67,
     "metadata": {},
     "output_type": "execute_result"
    }
   ],
   "source": [
    "os.walk(\"E:\")\n"
   ]
  },
  {
   "cell_type": "code",
   "execution_count": 68,
   "metadata": {},
   "outputs": [
    {
     "name": "stdout",
     "output_type": "stream",
     "text": [
      "=> E:\n",
      "📂 ['$RECYCLE.BIN', '3rd Sem Notes', '5th sem', \"Aakash's Program\", 'backup', 'Bajaao Re!', 'BCA 4th SEM', 'C Program Codes', 'Drama', 'HTML', 'JAVA', 'JavaScript Materials', 'license', 'Makeine Too Many Losing Heroines', 'Music', 'Personal Documents', 'RESUME', 'roadmap', 'scholarship files', 'Sigma Web Development', 'System Volume Information', 'The Legend of Hanuman S03 Hindi 1080p WEB-DL ESub [BollyFlix]']\n",
      "🗄️ ['Avengers Infinity War (2018) {Hindi-English} 1080p BluRay ESub [BollyFlix].mkv', 'Look Back 2024 {Hindi-English-Japanese} 1080p HQ WEB-DL ESub [BollyFlix].mkv', 'Mousehunt (1997) Dual Audio {Hindi-English} 1080p BluRay ESubs [BollyFlix].mkv', 'Smart Career move^.docx', 'The Legend of Hanuman S03 Hindi 1080p WEB-DL ESub [BollyFlix].zip', 'WhatsApp Image 2024-11-24 at 00.28.05_2ba0341a.jpg']\n",
      "=> E:$RECYCLE.BIN\n",
      "📂 ['S-1-5-21-2196440936-2442128722-2636621696-1001']\n",
      "🗄️ []\n",
      "=> E:$RECYCLE.BIN\\S-1-5-21-2196440936-2442128722-2636621696-1001\n",
      "📂 []\n",
      "🗄️ ['desktop.ini']\n",
      "=> E:3rd Sem Notes\n",
      "📂 ['ASSignment', 'DataBase Management System', 'Descrete mathematics', 'design analysis and algorithm', 'Examination preparation', 'Java']\n",
      "🗄️ ['BCA 3RD SEM SYLLABUS.docx', 'BCA 3RD SEM SYLLABUS.pdf', 'DAILY ROUTINE TIMETABLE 🫠.docx', 'JAVA LAB FILE.docx']\n",
      "=> E:3rd Sem Notes\\ASSignment\n",
      "📂 ['SS', 'ssc']\n",
      "🗄️ ['Assignment 3.docx', 'Assignment 5.docx', 'Assignment on arrays.doc', 'assignment on constructors.doc', 'Assignment on loops.doc', 'javafileforbbd.docx', 'javafileforbbd.pdf']\n",
      "=> E:3rd Sem Notes\\ASSignment\\SS\n",
      "📂 []\n",
      "🗄️ ['10.png', '11.png', '12.png', '2.png', '3.png', '4.png', '5.png', '6.png', '8.png', '9.png']\n",
      "=> E:3rd Sem Notes\\ASSignment\\ssc\n",
      "📂 []\n",
      "🗄️ ['1.png', '10.png', '11.png', '12.png', '2.png', '3.png', '4.png', '5.png', '6.png', '8.png', '9.png']\n",
      "=> E:3rd Sem Notes\\DataBase Management System\n",
      "📂 []\n",
      "🗄️ ['400-top-dbms-lab-viva-questions-and-answers.pdf', 'APznzaafumbJxupMRVKCv_vDVoGGLIhwClhQTWaL_MFCr3Ffa7XtZDl2u7JihMOXKkeYXtHgSfUaHOmy2bl6wTbMg6b6fff8LbeCGwrVBpphMfZggvMsgY3Q75KoIndCL3QVc9hLKaOpCquLkAvc-hJ93pdB8Fn9Ca6-XZTah25ZLKinlMe6mInhdeIhcTV.pdf', 'dbms-full-notes-of-dbms.pdf', 'dbms-viva-questions-and-answers.pdf', 'dbms-viva-questions-coders-lodge.pdf']\n",
      "=> E:3rd Sem Notes\\Descrete mathematics\n",
      "📂 []\n",
      "🗄️ ['discrete-mathematics-by-t-veerarajan.pdf', 'discrete-mathematics-mod-2.pdf', 'discrete-mathmatics-module-1.pdf', 'dm-module-3-recurrence-relation.pdf']\n",
      "=> E:3rd Sem Notes\\design analysis and algorithm\n",
      "📂 []\n",
      "🗄️ ['daa-complete-notes.pdf', 'Design and Analysis Algorithms.pdf', 'lecture1428551222.pdf', 'recursion.png']\n",
      "=> E:3rd Sem Notes\\Examination preparation\n",
      "📂 []\n",
      "🗄️ ['DAA Question Bank.pdf']\n",
      "=> E:3rd Sem Notes\\Java\n",
      "📂 ['Java_ChapterWise_Notes']\n",
      "🗄️ ['Core java complete notes.pdf', 'Java Handwritten Notes.pdf', 'java-interview-questions.pdf', 'java-viva-questions (1).pdf', 'java-viva-questions.pdf', 'Java_ChapterWise_Notes.rar']\n",
      "=> E:3rd Sem Notes\\Java\\Java_ChapterWise_Notes\n",
      "📂 ['Java_Complete_Notes']\n",
      "🗄️ []\n",
      "=> E:3rd Sem Notes\\Java\\Java_ChapterWise_Notes\\Java_Complete_Notes\n",
      "📂 ['Chapter 0', 'Chapter 1', 'Chapter 10', 'Chapter 11', 'Chapter 12', 'Chapter 13', 'Chapter 14', 'Chapter 15', 'Chapter 2', 'Chapter 3', 'Chapter 4', 'Chapter 5', 'Chapter 6', 'Chapter 7', 'Chapter 8', 'Chapter 9']\n",
      "🗄️ ['Type Conversion, Precedence and Associativity of Operators in C.gif', 'UltimateJavaCheatSheet.pdf']\n",
      "=> E:3rd Sem Notes\\Java\\Java_ChapterWise_Notes\\Java_Complete_Notes\\Chapter 0\n",
      "📂 []\n",
      "🗄️ ['IntroToJava.pdf']\n",
      "=> E:3rd Sem Notes\\Java\\Java_ChapterWise_Notes\\Java_Complete_Notes\\Chapter 1\n",
      "📂 []\n",
      "🗄️ ['JavaChapter1.pdf', 'JavaChapter1PracticeSet.pdf']\n",
      "=> E:3rd Sem Notes\\Java\\Java_ChapterWise_Notes\\Java_Complete_Notes\\Chapter 10\n",
      "📂 []\n",
      "🗄️ ['Chapter10.pdf', 'Chapter10PracticeSet.pdf']\n",
      "=> E:3rd Sem Notes\\Java\\Java_ChapterWise_Notes\\Java_Complete_Notes\\Chapter 11\n",
      "📂 []\n",
      "🗄️ ['Chapter11PS.pdf', 'Chapter_11_Abstract Classes.pdf']\n",
      "=> E:3rd Sem Notes\\Java\\Java_ChapterWise_Notes\\Java_Complete_Notes\\Chapter 12\n",
      "📂 []\n",
      "🗄️ ['Ch12psJava.pdf', 'Chapter12_Java.pdf']\n",
      "=> E:3rd Sem Notes\\Java\\Java_ChapterWise_Notes\\Java_Complete_Notes\\Chapter 13\n",
      "📂 []\n",
      "🗄️ ['Ch13Java.pdf', 'Chapter13PracticeSetJava.pdf']\n",
      "=> E:3rd Sem Notes\\Java\\Java_ChapterWise_Notes\\Java_Complete_Notes\\Chapter 14\n",
      "📂 []\n",
      "🗄️ ['Ch14PS.pdf', 'Ch14_java.pdf']\n",
      "=> E:3rd Sem Notes\\Java\\Java_ChapterWise_Notes\\Java_Complete_Notes\\Chapter 15\n",
      "📂 []\n",
      "🗄️ ['Ch15.pdf']\n",
      "=> E:3rd Sem Notes\\Java\\Java_ChapterWise_Notes\\Java_Complete_Notes\\Chapter 2\n",
      "📂 []\n",
      "🗄️ ['Ch2_Practice.pdf', 'Chapter2.pdf']\n",
      "=> E:3rd Sem Notes\\Java\\Java_ChapterWise_Notes\\Java_Complete_Notes\\Chapter 3\n",
      "📂 []\n",
      "🗄️ ['Chapter 3 - Practice Set.pdf', 'Chapter 3 - Strings.pdf']\n",
      "=> E:3rd Sem Notes\\Java\\Java_ChapterWise_Notes\\Java_Complete_Notes\\Chapter 4\n",
      "📂 []\n",
      "🗄️ ['Chapter 4 - Conditionals.pdf', 'Chapter 4 - Practice Set.pdf']\n",
      "=> E:3rd Sem Notes\\Java\\Java_ChapterWise_Notes\\Java_Complete_Notes\\Chapter 5\n",
      "📂 []\n",
      "🗄️ ['Chapter_5 _Practice_Set.pdf', 'Chapter_5.pdf']\n",
      "=> E:3rd Sem Notes\\Java\\Java_ChapterWise_Notes\\Java_Complete_Notes\\Chapter 6\n",
      "📂 []\n",
      "🗄️ ['Chapter_6_Arrays.pdf', 'Chapter_6_Practice_Set.pdf']\n",
      "=> E:3rd Sem Notes\\Java\\Java_ChapterWise_Notes\\Java_Complete_Notes\\Chapter 7\n",
      "📂 []\n",
      "🗄️ ['Ch7.pdf', 'Chapter7_PracticeSet.pdf']\n",
      "=> E:3rd Sem Notes\\Java\\Java_ChapterWise_Notes\\Java_Complete_Notes\\Chapter 8\n",
      "📂 []\n",
      "🗄️ ['Ch8.pdf', 'Ch8_PS.pdf']\n",
      "=> E:3rd Sem Notes\\Java\\Java_ChapterWise_Notes\\Java_Complete_Notes\\Chapter 9\n",
      "📂 []\n",
      "🗄️ ['Ch9PS.pdf', 'Chapter9.pdf']\n",
      "=> E:5th sem\n",
      "📂 []\n",
      "🗄️ ['BCA 5th SEM SYLLABUS PLAIN.docx', 'BCA 5th SEM SYLLABUS PLAIN.pdf', 'BCA 5th SEM SYLLABUS.docx', 'BCA 5th SEM SYLLABUS.pdf', 'NIMCET_2025.docx', 'NIMCET_2025.pdf']\n",
      "=> E:Aakash's Program\n",
      "📂 ['14 March Python Lab', 'Bookmarks', 'Python Program', 'Web Development']\n",
      "🗄️ [\"Aakash's Program.code-workspace\", 'assignment_Q1.py', 'lab_q1.py', 'lab_q2.py', 'lab_q3.py', 'lab_q4.py', 'p1.py', 'test.py', 'vishal.py']\n",
      "=> E:Aakash's Program\\14 March Python Lab\n",
      "📂 []\n",
      "🗄️ ['armstrong.py', 'factorial.py', 'fibonacci_series.py', 'pallindrom.py']\n",
      "=> E:Aakash's Program\\Bookmarks\n",
      "📂 []\n",
      "🗄️ ['bookmark.html', 'script.js', 'style.css', 'table.html']\n",
      "=> E:Aakash's Program\\Python Program\n",
      "📂 []\n",
      "🗄️ ['calculator.py', 'hello.py', 'list.py', 'pollindrom.py', 'prime_number.py', 'q1.py', 'q2.py', 'q3.py', 'string.py', 'sum.py']\n",
      "=> E:Aakash's Program\\Web Development\n",
      "📂 []\n",
      "🗄️ ['form.html', 'index.html']\n",
      "=> E:backup\n",
      "📂 ['20250117_221958']\n",
      "🗄️ ['backup documents.zip', 'backup vvv.zip', 'backup_audio.zip']\n",
      "=> E:backup\\20250117_221958\n",
      "📂 ['@aksh.V5']\n",
      "🗄️ ['backup_audio.zip', 'backup_image.zip', 'descript.xml']\n",
      "=> E:backup\\20250117_221958\\@aksh.V5\n",
      "📂 []\n",
      "🗄️ ['5512430627.txt']\n",
      "=> E:Bajaao Re!\n",
      "📂 ['.vscode']\n",
      "🗄️ ['2AM.mp3', 'Aaj sajeya spedup.mp3', 'Akhiyaan.mp3', 'All We Know.mp3', 'Bloom Mashup.mp3', 'Criminal.mp3', 'Dariya.mp3', 'Dekha tennu.mp3', 'Dilli_Shehar.mp3', 'index.html', 'Inni Si Gal.mp3', 'iraaday.mp3', 'Lamberghini.mp3', 'MAHIYA.mp3', 'Naino ne bandhi.mp3', 'new.html', 'perfect.mp3', 'Rose - until I found you.mp3', 'Sanctuary.mp3', 'script.js', 'style.css', 'tum hi ho bandhu.mp3', 'wake_up_sid.mp3', 'Your Eyes.mp3']\n",
      "=> E:Bajaao Re!\\.vscode\n",
      "📂 []\n",
      "🗄️ ['settings.json']\n",
      "=> E:BCA 4th SEM\n",
      "📂 []\n",
      "🗄️ ['.NET C# QP..pdf', 'BCA 4TH SEM SYLLABUS.docx', 'BCA 4TH SEM SYLLABUS.pdf', 'bca Syllabus wef 2022-25.pdf', 'BPP QP..pdf', 'central tendency AM_NST.pdf', 'CG QP..pdf', 'DWDM QP..pdf', 'Geometric Mean_NST.pdf', 'Harmonic Mean_NST.pdf', 'Measures of Dispersion_NST.pdf', 'Median_NST.pdf', 'Mode_NST.pdf', 'NST QP..pdf', 'NST QP2.pdf']\n",
      "=> E:C Program Codes\n",
      "📂 ['1ST SEM CODES', '2ND SEM CODES', 'sessinal_solution']\n",
      "🗄️ ['24_march.c', 'aksh.c', 'code.c', 'hello.c', 'hello.exe', 'index.html', 'insertion_sort.c', 'kallua.c', 'linked_list_beginning.c', 'MallocR.c', 'practicing.c']\n",
      "=> E:C Program Codes\\1ST SEM CODES\n",
      "📂 []\n",
      "🗄️ ['04_quickquiz_reverse_natural_number.c', 'actual_grade.c', 'ahsan.c', 'ahsan_question.c', 'akas.c', 'akshh.c', 'akshhh.c', 'all_in_one_matrix.c', 'areaoftriangle.c', 'area_and_circumference_of_circle.c', 'area_of_triangle.c', 'area_of_triangle_3_sides.c', 'array_2 copy.c', 'array_2.c', 'atin copy.c', 'atin.c', 'average.c', 'binary_search.c', 'bubble_sort.c', 'caalcu.c', 'calculator.c', 'ccc.c', 'condition_of_passing_or_failing.c', 'copy.c', 'c_f.c', 'days.c', 'diff_of_array.c', 'distance_between_twopoints.c', 'divededby2.c', 'dividedby7.c', 'dowhileloop_quick_quiz_for_natural_num.c', 'even_lab.c', 'even_or_odd.c', 'fibinici.c', 'forloop_quick_quiz_for_natural_num.c', 'fun.c', 'function_practice.c', 'fun_decimal_to_binary.c', 'fun_even_odd.c', 'fun_mat.c', 'fun_nestingqueation1.c', 'fun_prime_question4.c', 'fun_question2.c', 'fun_question3.c', 'fun_question5_armstrongnum.c', 'fun_question7.c', 'fun_question9.c', 'fun_question_6_7_merging.c', 'fun_question_8.c', 'fun_square.c', 'fun_swap.c', 'grade.c', 'grade_finder.c', 'greatestof4_no.c', 'greatest_in_three.c', 'greatest_of_six_number_.c', 'guessing_game.c', 'hmmm.c', 'homework_1.c', 'homework_2.c', 'index.html', 'insertion.c', 'linked_list.c', 'linked_list.exe', 'lowercase_or_not.c', 'lowest_of_ten_number_.c', 'm.c', 'main_.c', 'month.c', 'month_2.c', 'multii.c', 'multiplication_of_two_matrices.c', 'nest.c', 'nikhil.c', 'nnn.c', 'pattern.c', 'practice.c', 'prime_or_not.c', 'prime_or_not_while.c', 'program_tax.c', 'project_1a.c', 'project_1b.c', 'question13.c', 'question14.c', 'rect.c', 'rectangle_area.c', 'reverse.c', 'sandeep.c', 'sanya.c', 'sanya2.c', 'series.c', 'series_2.c', 'sorted.c', 'square.c', 'sum_of_array.c', 'sum_of_two_num.c', 'tax_on_income.c', 'tempCodeRunnerFile.c', 'tower_of_hanoi.c', 'triangle_type.c', 'tttt.c', 'upppercase_or_not.c', 'voting.c', 'vowel_checker.c']\n",
      "=> E:C Program Codes\\2ND SEM CODES\n",
      "📂 []\n",
      "🗄️ []\n",
      "=> E:C Program Codes\\sessinal_solution\n",
      "📂 []\n",
      "🗄️ ['1_to_100_odd_number.c', 'arr_struct.c', 'binary_search.c', 'binary_serching.c', 'bubble_sort.c', 'calculator.c', 'check.c', 'check.exe', 'check2.c', 'fibbonaci.c', 'fun_prime_or_not.c', 'linear_search.c', 'linear_search.exe', 'macro.c', 'n_num_reverse.c', 'prime_or_not.c', 'sorting.c', 'sorting_by_fun.c', 'structure.c', 'swap.c', 'transpose_of_matrirx.c', 'transpose_of_matrirx.exe']\n",
      "=> E:Drama\n",
      "📂 []\n",
      "🗄️ ['The Time We Were Not In Love S01E01 {Hindi-Korean} 720p WEB-DL ESub [BollyFlix].mkv', 'The Time We Were Not In Love S01E02 {Hindi-Korean} 720p WEB-DL ESub [BollyFlix].mkv', 'The Time We Were Not In Love S01E03 {Hindi-Korean} 720p WEB-DL ESub [BollyFlix].mkv', 'The Time We Were Not In Love S01E04 {Hindi-Korean} 720p WEB-DL ESub [BollyFlix].mkv', 'The Time We Were Not In Love S01E05 {Hindi-Korean} 720p WEB-DL ESub [BollyFlix].mkv', 'The Time We Were Not In Love S01E06 {Hindi-Korean} 720p WEB-DL ESub [BollyFlix].mkv', 'The Time We Were Not In Love S01E07 {Hindi-Korean} 720p WEB-DL ESub [BollyFlix].mkv', 'The Time We Were Not In Love S01E08 {Hindi-Korean} 720p WEB-DL ESub [BollyFlix].mkv', 'The Time We Were Not In Love S01E09 {Hindi-Korean} 720p WEB-DL ESub [BollyFlix].mkv', 'The Time We Were Not In Love S01E10 {Hindi-Korean} 720p WEB-DL ESub [BollyFlix].mkv', 'The Time We Were Not In Love S01E11 {Hindi-Korean} 720p WEB-DL ESub [BollyFlix].mkv', 'The Time We Were Not In Love S01E12 {Hindi-Korean} 720p WEB-DL ESub [BollyFlix].mkv', 'The Time We Were Not In Love S01E13 {Hindi-Korean} 720p WEB-DL ESub [BollyFlix].mkv', 'The Time We Were Not In Love S01E14 {Hindi-Korean} 720p WEB-DL ESub [BollyFlix].mkv', 'The Time We Were Not In Love S01E15 {Hindi-Korean} 720p WEB-DL ESub [BollyFlix].mkv', 'The Time We Were Not In Love S01E16 {Hindi-Korean} 720p WEB-DL ESub [BollyFlix].mkv']\n",
      "=> E:HTML\n",
      "📂 []\n",
      "🗄️ ['CSS_Complete_Notes.pdf', 'HTML CODES.pdf', 'HTML Handwritten Notes.pdf', 'HTML_ChapterWise_Notes.zip', 'HTML_Cheatsheet_.pdf', 'HTML_Complete_Notes.pdf', 'JavaScript_Cheatsheet_.pdf', 'JS_Chapterwise_Notes.pdf']\n",
      "=> E:JAVA\n",
      "📂 ['Assignment', 'DSA', 'java_lab_file', 'NoName', 'PATTERNS', 'Practice', 'STRING']\n",
      "🗄️ ['index.html', 'sum.c', 'sum.java']\n",
      "=> E:JAVA\\Assignment\n",
      "📂 []\n",
      "🗄️ ['matrix.java', 'PositiveOrNegative.java', 'WeekdayGenerator.java']\n",
      "=> E:JAVA\\DSA\n",
      "📂 []\n",
      "🗄️ ['binarySearch.java', 'bubbleSort.java']\n",
      "=> E:JAVA\\java_lab_file\n",
      "📂 []\n",
      "🗄️ ['ArraySearch.java', 'AverageAndProductCalculator.java', 'Employee.java', 'LargestSmallestFinder.java', 'LeapYearChecker.java', 'Matrix.java', 'MatrixType.java', 'PrimeFactorFinder.java', 'PrimeNumberPrinter.java', 'RectangleAreaCalculator.java', 'SimpleCalculator.java', 'SumOfEvenAndOddDigits.java']\n",
      "=> E:JAVA\\NoName\n",
      "📂 []\n",
      "🗄️ ['array1.java', 'calculater.java', 'chutiya.java', 'hello.java', 'mathematics.java', 'MatrixMultiplication.java', 'pollindrom_no_or_not.java', 'sum_of_matrix.java', 'table.java', 'TowerOfHanoi.java']\n",
      "=> E:JAVA\\PATTERNS\n",
      "📂 []\n",
      "🗄️ ['Pattern_1.java', 'Pattern_10.java', 'Pattern_2.java', 'Pattern_3.java', 'Pattern_4.java', 'Pattern_5.java', 'Pattern_6.java', 'Pattern_7.java', 'Pattern_8.java', 'Pattern_9.java']\n",
      "=> E:JAVA\\Practice\n",
      "📂 []\n",
      "🗄️ ['Alphabet.java', 'circle.java', 'Date.java', 'evenOdd.java', 'GreatestNumber.java', 'LeapYear.java', 'Num_PositiveOrNegative.java', 'VowelOrConsonant.java']\n",
      "=> E:JAVA\\STRING\n",
      "📂 []\n",
      "🗄️ ['changeCase.java']\n",
      "=> E:JavaScript Materials\n",
      "📂 []\n",
      "🗄️ ['Javascript 163 pages.pdf', 'Javascript CodeWithHarry.pdf', 'JavaScript handwritten notes.pdf', 'Javascript notes 43 pages.pdf', 'JavaScript-Handwritten-Notes.pdf', 'Notes 28 pages.pdf']\n",
      "=> E:license\n",
      "📂 []\n",
      "🗄️ ['WhatsApp Image 2022-06-03 at 10.16.43 AM.jpeg', 'WhatsApp Image 2022-06-03 at 10.24.31 AM.jpeg', 'WhatsApp Image 2022-06-03 at 10.26.42 AM.jpeg']\n",
      "=> E:Makeine Too Many Losing Heroines\n",
      "📂 []\n",
      "🗄️ ['Makeine Too Many Losing Heroines S01E01 {Hindi-English-Japanese} 1080p HQ WEB-DL ESub [BollyFlix].mkv', 'Makeine Too Many Losing Heroines S01E02 {Hindi-English-Japanese} 1080p HQ WEB-DL ESub [BollyFlix].mkv', 'Makeine Too Many Losing Heroines S01E03 {Hindi-English-Japanese} 1080p HQ WEB-DL ESub [BollyFlix].mkv', 'Makeine Too Many Losing Heroines S01E04 {Hindi-English-Japanese} 1080p HQ WEB-DL ESub [BollyFlix].mkv', 'Makeine Too Many Losing Heroines S01E05 {Hindi-English-Japanese} 1080p HQ WEB-DL ESub [BollyFlix].mkv', 'Makeine Too Many Losing Heroines S01E06 {Hindi-English-Japanese} 1080p HQ WEB-DL ESub [BollyFlix].mkv', 'Makeine Too Many Losing Heroines S01E07 {Hindi-English-Japanese} 1080p HQ WEB-DL ESub [BollyFlix].mkv', 'Makeine Too Many Losing Heroines S01E08 {Hindi-English-Japanese} 1080p HQ WEB-DL ESub [BollyFlix].mkv', 'Makeine Too Many Losing Heroines S01E09 {Hindi-English-Japanese} 1080p HQ WEB-DL ESub [BollyFlix].mkv', 'Makeine Too Many Losing Heroines S01E10 {Hindi-English-Japanese} 1080p HQ WEB-DL ESub [BollyFlix].mkv', 'Makeine Too Many Losing Heroines S01E11 {Hindi-English-Japanese} 1080p HQ WEB-DL ESub [BollyFlix].mkv', 'Makeine Too Many Losing Heroines S01E12 {Hindi-English-Japanese} 1080p HQ WEB-DL ESub [BollyFlix].mkv']\n",
      "=> E:Music\n",
      "📂 []\n",
      "🗄️ ['Chumma_320(PagalWorld.com.sb).mp3']\n",
      "=> E:Personal Documents\n",
      "📂 []\n",
      "🗄️ ['20220604_122747.jpg', 'aadhar.jpg', 'e-EPIC_XCM3133188.pdf', 'IMG_20220603_102620.jpg', 'IMG_20221117_121716-ImResizer.jpg', 'sign.jpg', 'vvvv.txt', 'WhatsApp Image 2022-11-17 at 12.28.05.jpg', 'WhatsApp Image 2022-11-17 at 12.29.04.jpg', 'WhatsApp Image 2022-11-17 at 12.31.33.jpg']\n",
      "=> E:RESUME\n",
      "📂 []\n",
      "🗄️ ['Associate Engineer.docx', 'Associate Engineer.pdf', 'Data Analyst.docx', 'Data Analyst.pdf']\n",
      "=> E:roadmap\n",
      "📂 ['data-science-roadmap-2024']\n",
      "🗄️ ['data-analyst-roadmap-2024.zip', 'data-science-roadmap-2024.zip']\n",
      "=> E:roadmap\\data-science-roadmap-2024\n",
      "📂 []\n",
      "🗄️ ['DS_2024_Roadmap.pdf', 'LinkedIn Checklist.pdf', 'Resume Checklist.pdf']\n",
      "=> E:scholarship files\n",
      "📂 []\n",
      "🗄️ ['1.png', '2.png', '20KB.jpg', '3.png', '4.png', '5.png', '6.png', '7.png', 'aaaa.dwm', 'ADDER(SUM AND CARRY).dwm', 'ADVANCED-ENG-MATH-BY-H.K-DASS.pdf', 'aksh.v5 - Chrome.lnk', 'ARYAN.jpg', 'ashwani 2nd.pdf', 'ashwani pandey hard copy.pdf', 'ashwani.pdf', 'CPF 2019.pdf', 'DE notes by Abhay dubey.pdf', 'DigitalWorks.exe', 'ENVIRONMENTAL-SCIENCE-1.pdf', 'evs dramas.pdf', 'Evs notes by Abhay dubey.pdf', 'Fundamentals-of-Computer-and-IT-UGCA-1902-1.pdf', 'Macro.dwm', 'nikhil ahir.pdf', 'nikhil schalarship.png', 'NIKHIL SCHOLARSHIP.pdf', 'nikhil yadav ahir.pdf', 'PCUC Notes.pdf', 'Rationcard Digitization.pdf', 'RRRRRR.jpg', 'scholarship form.pdf', 'scholarship priyanshu.pdf', 'Screenshot 2022-11-07 091134.png', 'StuDocu.lnk', 'Summary Report10000.pdf', 't rex.pdf', 'the-main-objective-of-environmental-education-is--60fa70ae1e5a3dd70ea89b81.pdf', '__ Ration Card __VERIFICATION.pdf', 'आकाश - Chrome.lnk']\n",
      "=> E:Sigma Web Development\n",
      "📂 ['Video 20']\n",
      "🗄️ []\n",
      "=> E:Sigma Web Development\\Video 20\n",
      "📂 []\n",
      "🗄️ ['index.html']\n",
      "=> E:The Legend of Hanuman S03 Hindi 1080p WEB-DL ESub [BollyFlix]\n",
      "📂 []\n",
      "🗄️ ['The Legend of Hanuman S03E01 Hindi 1080p WEB-DL ESub [BollyFlix].mkv', 'The Legend of Hanuman S03E02 Hindi 1080p WEB-DL ESub [BollyFlix].mkv', 'The Legend of Hanuman S03E03 Hindi 1080p WEB-DL ESub [BollyFlix].mkv', 'The Legend of Hanuman S03E04 Hindi 1080p WEB-DL ESub [BollyFlix].mkv', 'The Legend of Hanuman S03E05 Hindi 1080p WEB-DL ESub [BollyFlix].mkv', 'The Legend of Hanuman S03E06 Hindi 1080p WEB-DL ESub [BollyFlix].mkv']\n",
      "total files found: 471\n"
     ]
    }
   ],
   "source": [
    "total_files = 0\n",
    "for path, folders, files in os.walk(\"E:\"):\n",
    "  print(\"=>\", path)\n",
    "  print(\"📂\", folders)\n",
    "  print(\"🗄️\", files)\n",
    "  total_files += len(files)\n",
    "  \n",
    "print(\"total files found:\", total_files)"
   ]
  },
  {
   "cell_type": "code",
   "execution_count": 69,
   "metadata": {},
   "outputs": [
    {
     "name": "stdout",
     "output_type": "stream",
     "text": [
      "D:\\Dramas exists\n"
     ]
    }
   ],
   "source": [
    "file = r\"D:\\Dramas\"\n",
    "if os.path.exists(file):\n",
    "  print(file, 'exists')\n",
    "else:\n",
    "  print(file, 'does not exist')"
   ]
  },
  {
   "cell_type": "code",
   "execution_count": 72,
   "metadata": {},
   "outputs": [
    {
     "name": "stdout",
     "output_type": "stream",
     "text": [
      "folder exists\n",
      "folder size: 98304 bytes\n",
      "Folder size in KB: 96.0 KB\n",
      "Folder size in MB: 0.09375 MB\n",
      "Folder size in GB: 9.1552734375e-05 GB\n"
     ]
    }
   ],
   "source": [
    "if os.path.exists(file):\n",
    "  print(\"folder exists\")\n",
    "  size = os.path.getsize(file)\n",
    "  print(\"folder size:\", size, \"bytes\")\n",
    "  print(\"Folder size in KB:\", size/1024, \"KB\")\n",
    "  print(\"Folder size in MB:\", size/1024/1024, \"MB\")\n",
    "  print(\"Folder size in GB:\", size/1024/1024/1024, \"GB\")"
   ]
  }
 ],
 "metadata": {
  "kernelspec": {
   "display_name": "base",
   "language": "python",
   "name": "python3"
  },
  "language_info": {
   "codemirror_mode": {
    "name": "ipython",
    "version": 3
   },
   "file_extension": ".py",
   "mimetype": "text/x-python",
   "name": "python",
   "nbconvert_exporter": "python",
   "pygments_lexer": "ipython3",
   "version": "3.12.7"
  }
 },
 "nbformat": 4,
 "nbformat_minor": 2
}
