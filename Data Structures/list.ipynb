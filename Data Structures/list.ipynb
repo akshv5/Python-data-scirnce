{
 "cells": [
  {
   "cell_type": "code",
   "execution_count": 44,
   "metadata": {},
   "outputs": [
    {
     "name": "stdout",
     "output_type": "stream",
     "text": [
      "hello world\n"
     ]
    }
   ],
   "source": [
    "print(\"hello world\")"
   ]
  },
  {
   "cell_type": "code",
   "execution_count": 45,
   "metadata": {},
   "outputs": [
    {
     "name": "stdout",
     "output_type": "stream",
     "text": [
      "google pinterest facebook snapchat email uber zomato swiggy "
     ]
    }
   ],
   "source": [
    "apps = ['google', 'pinterest','facebook', 'snapchat', 'email', 'uber', 'zomato', 'swiggy' ]\n",
    "for i in apps:\n",
    "  print(i, end = ' ')"
   ]
  },
  {
   "cell_type": "code",
   "execution_count": 46,
   "metadata": {},
   "outputs": [
    {
     "name": "stdout",
     "output_type": "stream",
     "text": [
      "['snapchat', 'email', 'uber', 'zomato', 'swiggy']\n"
     ]
    }
   ],
   "source": [
    "print(apps[3:8])"
   ]
  },
  {
   "cell_type": "code",
   "execution_count": 47,
   "metadata": {},
   "outputs": [
    {
     "name": "stdout",
     "output_type": "stream",
     "text": [
      "['google', 'facebook', 'email', 'zomato']\n"
     ]
    }
   ],
   "source": [
    "print(apps[0:8:2])"
   ]
  },
  {
   "cell_type": "markdown",
   "metadata": {},
   "source": [
    "List Methods\n",
    "- append() - to add an item at the end of the list \n",
    "- insert() - to add an item at any specific position\n",
    "- pop() - to delete an item usng rhe index position\n",
    "- remove() - to delete an items using the element name\n",
    "- copy() - to make a copy of the list\n",
    "- sort() - to arrange the items in a particular order\n",
    "- extend() -to combine two list\n",
    "- clear() - to delete all the items of the list but not a list"
   ]
  },
  {
   "cell_type": "code",
   "execution_count": 48,
   "metadata": {},
   "outputs": [
    {
     "name": "stdout",
     "output_type": "stream",
     "text": [
      "['google', 'pinterest', 'facebook', 'snapchat', 'email', 'uber', 'zomato', 'swiggy', 'whatsapp']\n"
     ]
    }
   ],
   "source": [
    "apps.append('whatsapp')\n",
    "print(apps)"
   ]
  },
  {
   "cell_type": "code",
   "execution_count": 49,
   "metadata": {},
   "outputs": [
    {
     "name": "stdout",
     "output_type": "stream",
     "text": [
      "['google', 'pinterest', 'twitter', 'facebook', 'snapchat', 'email', 'uber', 'zomato', 'swiggy', 'whatsapp']\n"
     ]
    }
   ],
   "source": [
    "apps.insert(2, 'twitter')\n",
    "print(apps)"
   ]
  },
  {
   "cell_type": "code",
   "execution_count": 50,
   "metadata": {},
   "outputs": [
    {
     "name": "stdout",
     "output_type": "stream",
     "text": [
      "['google', 'pinterest', 'twitter', 'snapchat', 'email', 'uber', 'zomato', 'swiggy', 'whatsapp']\n"
     ]
    }
   ],
   "source": [
    "apps.pop(3)\n",
    "print(apps)"
   ]
  },
  {
   "cell_type": "code",
   "execution_count": 51,
   "metadata": {},
   "outputs": [
    {
     "name": "stdout",
     "output_type": "stream",
     "text": [
      "['google', 'pinterest', 'snapchat', 'email', 'uber', 'zomato', 'swiggy', 'whatsapp']\n"
     ]
    }
   ],
   "source": [
    "apps.remove('twitter')\n",
    "print(apps)"
   ]
  },
  {
   "cell_type": "code",
   "execution_count": null,
   "metadata": {},
   "outputs": [],
   "source": [
    "apps2 = apps.copy()"
   ]
  },
  {
   "cell_type": "code",
   "execution_count": 53,
   "metadata": {},
   "outputs": [
    {
     "name": "stdout",
     "output_type": "stream",
     "text": [
      "[]\n"
     ]
    }
   ],
   "source": [
    "apps.clear()\n",
    "print(apps)"
   ]
  },
  {
   "cell_type": "code",
   "execution_count": 54,
   "metadata": {},
   "outputs": [
    {
     "name": "stdout",
     "output_type": "stream",
     "text": [
      "['google', 'pinterest', 'snapchat', 'email', 'uber', 'zomato', 'swiggy', 'whatsapp']\n"
     ]
    }
   ],
   "source": [
    "print(apps2)"
   ]
  },
  {
   "cell_type": "code",
   "execution_count": 55,
   "metadata": {},
   "outputs": [
    {
     "name": "stdout",
     "output_type": "stream",
     "text": [
      "['email', 'google', 'pinterest', 'snapchat', 'swiggy', 'uber', 'whatsapp', 'zomato']\n"
     ]
    }
   ],
   "source": [
    "apps2.sort()\n",
    "print(apps2)"
   ]
  },
  {
   "cell_type": "code",
   "execution_count": 56,
   "metadata": {},
   "outputs": [
    {
     "name": "stdout",
     "output_type": "stream",
     "text": [
      "['email', 'google', 'pinterest', 'snapchat', 'swiggy', 'uber', 'whatsapp', 'zomato', 'bgmi', 'pubg', 'cod', 'fortnite', 'valorant']\n"
     ]
    }
   ],
   "source": [
    "a = ['bgmi', 'pubg', 'cod', 'fortnite', 'valorant']\n",
    "apps2.extend(a)\n",
    "print(apps2)"
   ]
  }
 ],
 "metadata": {
  "kernelspec": {
   "display_name": "base",
   "language": "python",
   "name": "python3"
  },
  "language_info": {
   "codemirror_mode": {
    "name": "ipython",
    "version": 3
   },
   "file_extension": ".py",
   "mimetype": "text/x-python",
   "name": "python",
   "nbconvert_exporter": "python",
   "pygments_lexer": "ipython3",
   "version": "3.12.7"
  }
 },
 "nbformat": 4,
 "nbformat_minor": 2
}
