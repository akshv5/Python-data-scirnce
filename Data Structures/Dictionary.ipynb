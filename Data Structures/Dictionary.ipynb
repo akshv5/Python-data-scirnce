{
 "cells": [
  {
   "cell_type": "markdown",
   "metadata": {},
   "source": [
    "- Dictionary : In Python, a dictionary is a built-in data type that allows you to store key-value pairs. Each key in a dictionary is unique and is used to access the corresponding value. Dictionaries are mutable, meaning you can change their content after they are created. They are defined using curly braces {} with key-value pairs separated by colons (:)\n"
   ]
  },
  {
   "cell_type": "code",
   "execution_count": 2,
   "metadata": {},
   "outputs": [
    {
     "name": "stdout",
     "output_type": "stream",
     "text": [
      "{'name': 'Aakash', 'roll_no': 1, 'age': 20, 'course': 'BCA'}\n"
     ]
    }
   ],
   "source": [
    "student = {\n",
    "    \"name\": \"Aakash\",\n",
    "    \"roll_no\": 1,\n",
    "    \"age\": 20,\n",
    "    \"course\": \"BCA\"\n",
    "}\n",
    "\n",
    "print(student)"
   ]
  },
  {
   "cell_type": "markdown",
   "metadata": {},
   "source": [
    "- how to declare it in different ways\n",
    "- how to access key and value pairs\n",
    "- how to use loops in dictionary\n",
    "- indexing in dictionary\n"
   ]
  },
  {
   "cell_type": "code",
   "execution_count": null,
   "metadata": {},
   "outputs": [
    {
     "name": "stdout",
     "output_type": "stream",
     "text": [
      "{'Lucknow': [40, 45, 48], 'Delhi': [42, 46, 50], 'Mumbai': [35, 40, 45]}\n"
     ]
    }
   ],
   "source": [
    "temperature = {\n",
    "  'Lucknow' : [40, 45, 48],\n",
    "  'Delhi' : [42, 46, 50],\n",
    "  'Mumbai' : [35, 40, 45]\n",
    "}\n",
    "print(temperature)"
   ]
  },
  {
   "cell_type": "code",
   "execution_count": 5,
   "metadata": {},
   "outputs": [
    {
     "name": "stdout",
     "output_type": "stream",
     "text": [
      "{'name': 'Aakash', 'roll_no': 1, 'age': 20, 'course': 'BCA'}\n"
     ]
    }
   ],
   "source": [
    "info = dict(name = 'Aakash', roll_no = 1, age = 20, course = 'BCA')\n",
    "print(info)"
   ]
  },
  {
   "cell_type": "markdown",
   "metadata": {},
   "source": [
    "- 1st method to access values using key\n"
   ]
  },
  {
   "cell_type": "code",
   "execution_count": 8,
   "metadata": {},
   "outputs": [
    {
     "name": "stdout",
     "output_type": "stream",
     "text": [
      "Aakash\n",
      "1\n",
      "20\n",
      "BCA\n"
     ]
    }
   ],
   "source": [
    "print(info['name'])\n",
    "print(info['roll_no'])\n",
    "print(info['age'])\n",
    "print(info['course'])"
   ]
  },
  {
   "cell_type": "markdown",
   "metadata": {},
   "source": [
    "- 2nd method to access values using get() method\n"
   ]
  },
  {
   "cell_type": "code",
   "execution_count": 9,
   "metadata": {},
   "outputs": [
    {
     "name": "stdout",
     "output_type": "stream",
     "text": [
      "Aakash\n",
      "1\n"
     ]
    }
   ],
   "source": [
    "print(info.get('name'))\n",
    "print(info.get('roll_no'))  "
   ]
  },
  {
   "cell_type": "markdown",
   "metadata": {},
   "source": [
    "- to add items in dictionary\n"
   ]
  },
  {
   "cell_type": "code",
   "execution_count": 10,
   "metadata": {},
   "outputs": [
    {
     "name": "stdout",
     "output_type": "stream",
     "text": [
      "{'name': 'Aakash', 'roll_no': 1, 'age': 20, 'course': 'BCA', 'city': 'Lucknow'}\n"
     ]
    }
   ],
   "source": [
    "info['city'] = 'Lucknow'\n",
    "print(info)"
   ]
  },
  {
   "cell_type": "code",
   "execution_count": null,
   "metadata": {},
   "outputs": [
    {
     "name": "stdout",
     "output_type": "stream",
     "text": [
      "dict_keys(['name', 'roll_no', 'age', 'course'])\n",
      "dict_values(['Aakash', 1, 20, 'BCA'])\n",
      "dict_items([('name', 'Aakash'), ('roll_no', 1), ('age', 20), ('course', 'BCA')])\n"
     ]
    }
   ],
   "source": [
    "print(student.keys())\n",
    "print(student.values()) \n",
    "print(student.items())"
   ]
  },
  {
   "cell_type": "markdown",
   "metadata": {},
   "source": [
    "- to access keys, values and items using loops\n"
   ]
  },
  {
   "cell_type": "code",
   "execution_count": 13,
   "metadata": {},
   "outputs": [
    {
     "name": "stdout",
     "output_type": "stream",
     "text": [
      "name : Aakash\n",
      "roll_no : 1\n",
      "age : 20\n",
      "course : BCA\n"
     ]
    }
   ],
   "source": [
    "for x, y in student.items():\n",
    "    print(f\"{x} : {y}\")"
   ]
  },
  {
   "cell_type": "markdown",
   "metadata": {},
   "source": [
    "- Nested Dictionary\n"
   ]
  },
  {
   "cell_type": "code",
   "execution_count": null,
   "metadata": {},
   "outputs": [
    {
     "name": "stdout",
     "output_type": "stream",
     "text": [
      "{'cmp1': {'name': 'Facebook', 'location': 'Menlo Park', 'employees': 50000}, 'cmp2': {'name': 'Google', 'location': 'Mountain View', 'employees': 60000}, 'cmp3': {'name': 'Amazon', 'location': 'Seattle', 'employees': 200000}}\n"
     ]
    }
   ],
   "source": [
    "company = {\n",
    "  'cmp1': {\n",
    "    \"name\": \"Facebook\",\n",
    "    \"location\": \"Menlo Park\",\n",
    "    \"employees\": 50000\n",
    "  },\n",
    "  'cmp2': {\n",
    "    \"name\": \"Google\",\n",
    "    \"location\": \"Mountain View\",\n",
    "    \"employees\": 60000\n",
    "  },\n",
    "  'cmp3': {\n",
    "    \"name\": \"Amazon\",\n",
    "    \"location\": \"Seattle\",\n",
    "    \"employees\": 200000\n",
    "  }\n",
    "}\n",
    "print(company)\n",
    "    "
   ]
  },
  {
   "cell_type": "code",
   "execution_count": 15,
   "metadata": {},
   "outputs": [],
   "source": [
    "from pprint import pprint"
   ]
  },
  {
   "cell_type": "code",
   "execution_count": 16,
   "metadata": {},
   "outputs": [
    {
     "name": "stdout",
     "output_type": "stream",
     "text": [
      "{'cmp1': {'employees': 50000, 'location': 'Menlo Park', 'name': 'Facebook'},\n",
      " 'cmp2': {'employees': 60000, 'location': 'Mountain View', 'name': 'Google'},\n",
      " 'cmp3': {'employees': 200000, 'location': 'Seattle', 'name': 'Amazon'}}\n"
     ]
    }
   ],
   "source": [
    "pprint(company)"
   ]
  },
  {
   "cell_type": "code",
   "execution_count": 17,
   "metadata": {},
   "outputs": [
    {
     "data": {
      "text/plain": [
       "'Google'"
      ]
     },
     "execution_count": 17,
     "metadata": {},
     "output_type": "execute_result"
    }
   ],
   "source": [
    "company ['cmp2'] ['name']"
   ]
  },
  {
   "cell_type": "code",
   "execution_count": 18,
   "metadata": {},
   "outputs": [
    {
     "name": "stdout",
     "output_type": "stream",
     "text": [
      "[40, 45, 48]\n",
      "45\n"
     ]
    }
   ],
   "source": [
    "print(temperature['Lucknow'])\n",
    "print(temperature['Lucknow'][1])"
   ]
  },
  {
   "cell_type": "code",
   "execution_count": 21,
   "metadata": {},
   "outputs": [
    {
     "name": "stdout",
     "output_type": "stream",
     "text": [
      "[40, 45, 48]\n",
      "44.333333333333336\n"
     ]
    }
   ],
   "source": [
    "print(temperature['Lucknow'])\n",
    "average = sum(temperature['Lucknow']) / len(temperature['Lucknow'])\n",
    "print(average)\n"
   ]
  }
 ],
 "metadata": {
  "kernelspec": {
   "display_name": "base",
   "language": "python",
   "name": "python3"
  },
  "language_info": {
   "codemirror_mode": {
    "name": "ipython",
    "version": 3
   },
   "file_extension": ".py",
   "mimetype": "text/x-python",
   "name": "python",
   "nbconvert_exporter": "python",
   "pygments_lexer": "ipython3",
   "version": "3.12.7"
  }
 },
 "nbformat": 4,
 "nbformat_minor": 2
}
