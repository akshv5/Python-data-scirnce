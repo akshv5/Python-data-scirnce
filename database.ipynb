{
 "cells": [
  {
   "cell_type": "code",
   "execution_count": 110,
   "id": "6054e753",
   "metadata": {},
   "outputs": [],
   "source": [
    "from sqlalchemy import create_engine, Column, Integer, String\n",
    "from sqlalchemy.orm import sessionmaker, declarative_base"
   ]
  },
  {
   "cell_type": "markdown",
   "id": "9454449a",
   "metadata": {},
   "source": [
    "**- create_engine :** it is used to make connection from database\n",
    "\n",
    "**- column :** it defines columns in database\n",
    "\n",
    "**- integer and string :** datatype of values in database"
   ]
  },
  {
   "cell_type": "code",
   "execution_count": 111,
   "id": "44524a46",
   "metadata": {},
   "outputs": [],
   "source": [
    "engine = create_engine('sqlite:///users.db')"
   ]
  },
  {
   "cell_type": "code",
   "execution_count": 112,
   "id": "2a009ce8",
   "metadata": {},
   "outputs": [],
   "source": [
    "Base = declarative_base()\n",
    "class User(Base):\n",
    "    __tablename__ = 'users'\n",
    "    id = Column(Integer, primary_key=True)\n",
    "    name = Column(String)\n",
    "    email = Column(String)\n",
    "    password = Column(String)"
   ]
  },
  {
   "cell_type": "code",
   "execution_count": 113,
   "id": "116aa527",
   "metadata": {},
   "outputs": [],
   "source": [
    "Base.metadata.create_all(engine)"
   ]
  },
  {
   "cell_type": "code",
   "execution_count": 114,
   "id": "8e318e2a",
   "metadata": {},
   "outputs": [],
   "source": [
    "Session = sessionmaker(bind = engine)\n",
    "session = Session()"
   ]
  },
  {
   "cell_type": "code",
   "execution_count": 115,
   "id": "82d538d6",
   "metadata": {},
   "outputs": [],
   "source": [
    "# add a new user Aakash\n",
    "\n",
    "new_user  = User(name = 'Aakash', password = '4321')\n",
    "session.add(new_user)\n",
    "session.commit()"
   ]
  },
  {
   "cell_type": "code",
   "execution_count": 116,
   "id": "7707f657",
   "metadata": {},
   "outputs": [],
   "source": [
    "# add a new user Arun\n",
    "\n",
    "new_user  = User(name = 'Arun', password = '54321')\n",
    "session.add(new_user)\n",
    "session.commit()"
   ]
  },
  {
   "cell_type": "code",
   "execution_count": 117,
   "id": "176d9743",
   "metadata": {},
   "outputs": [],
   "source": [
    "# update operation\n",
    "\n",
    "user  = session.query(User).filter_by(name = 'Aakash').first()\n",
    "user.name = 'Sumiran'\n",
    "session.commit()"
   ]
  },
  {
   "cell_type": "code",
   "execution_count": 118,
   "id": "deeb96eb",
   "metadata": {},
   "outputs": [
    {
     "name": "stdout",
     "output_type": "stream",
     "text": [
      "ID: 1, Name:  Aakash,Email : None, Password: 4321\n",
      "ID: 2, Name: Arun,Email : None, Password: 54321\n",
      "ID: 3, Name:  Aakash,Email : None, Password: 4321\n",
      "ID: 4, Name: Arun,Email : None, Password: 54321\n",
      "ID: 5, Name:  Aakash,Email : None, Password: 4321\n",
      "ID: 6, Name: Arun,Email : None, Password: 54321\n",
      "ID: 7, Name:  Aakash,Email : None, Password: 4321\n",
      "ID: 8, Name: Arun,Email : None, Password: 54321\n",
      "ID: 9, Name:  Aakash,Email : None, Password: 4321\n",
      "ID: 10, Name: Arun,Email : None, Password: 54321\n",
      "ID: 11, Name:  Aakash,Email : None, Password: 4321\n",
      "ID: 12, Name: Arun,Email : None, Password: 54321\n",
      "ID: 13, Name:  Aakash,Email : None, Password: 4321\n",
      "ID: 14, Name: Arun,Email : None, Password: 54321\n",
      "ID: 16, Name: Arun,Email : None, Password: 54321\n",
      "ID: 17, Name: Sumiran,Email : None, Password: 4321\n",
      "ID: 18, Name: Arun,Email : None, Password: 54321\n"
     ]
    }
   ],
   "source": [
    "# retrieve all data \n",
    "\n",
    "users  = session.query(User).all()\n",
    "for x in users:\n",
    "    print(f'ID: {x.id}, Name: {x.name},Email : {x.email}, Password: {x.password}')"
   ]
  },
  {
   "cell_type": "code",
   "execution_count": 119,
   "id": "fa41529e",
   "metadata": {},
   "outputs": [],
   "source": [
    "# Delete Operation\n",
    "\n",
    "user  = session.query(User).filter_by(name = 'Sumiran').first()\n",
    "session.delete(user)\n",
    "session.commit()"
   ]
  },
  {
   "cell_type": "code",
   "execution_count": 120,
   "id": "b815e78c",
   "metadata": {},
   "outputs": [
    {
     "name": "stdout",
     "output_type": "stream",
     "text": [
      "ID: 1, Name:  Aakash,Email : None, Password: 4321\n",
      "ID: 2, Name: Arun,Email : None, Password: 54321\n",
      "ID: 3, Name:  Aakash,Email : None, Password: 4321\n",
      "ID: 4, Name: Arun,Email : None, Password: 54321\n",
      "ID: 5, Name:  Aakash,Email : None, Password: 4321\n",
      "ID: 6, Name: Arun,Email : None, Password: 54321\n",
      "ID: 7, Name:  Aakash,Email : None, Password: 4321\n",
      "ID: 8, Name: Arun,Email : None, Password: 54321\n",
      "ID: 9, Name:  Aakash,Email : None, Password: 4321\n",
      "ID: 10, Name: Arun,Email : None, Password: 54321\n",
      "ID: 11, Name:  Aakash,Email : None, Password: 4321\n",
      "ID: 12, Name: Arun,Email : None, Password: 54321\n",
      "ID: 13, Name:  Aakash,Email : None, Password: 4321\n",
      "ID: 14, Name: Arun,Email : None, Password: 54321\n",
      "ID: 16, Name: Arun,Email : None, Password: 54321\n",
      "ID: 18, Name: Arun,Email : None, Password: 54321\n"
     ]
    }
   ],
   "source": [
    "users  = session.query(User).all()\n",
    "for x in users:\n",
    "    print(f'ID: {x.id}, Name: {x.name},Email : {x.email}, Password: {x.password}')"
   ]
  }
 ],
 "metadata": {
  "kernelspec": {
   "display_name": "base",
   "language": "python",
   "name": "python3"
  },
  "language_info": {
   "codemirror_mode": {
    "name": "ipython",
    "version": 3
   },
   "file_extension": ".py",
   "mimetype": "text/x-python",
   "name": "python",
   "nbconvert_exporter": "python",
   "pygments_lexer": "ipython3",
   "version": "3.12.7"
  }
 },
 "nbformat": 4,
 "nbformat_minor": 5
}
